{
 "cells": [
  {
   "cell_type": "code",
   "execution_count": 1,
   "metadata": {},
   "outputs": [],
   "source": [
    "import matplotlib\n",
    "%matplotlib qt\n",
    "import sys\n",
    "sys.path.append('../DataGeneration/')\n",
    "from DataGenerator import DataGenerator\n",
    "from Potential import GravPot\n",
    "import numpy as np\n"
   ]
  },
  {
   "cell_type": "code",
   "execution_count": 2,
   "metadata": {},
   "outputs": [
    {
     "name": "stderr",
     "output_type": "stream",
     "text": [
      "/home/sbrandao/anaconda3/lib/python3.6/site-packages/scipy/integrate/odepack.py:236: ODEintWarning: Excess work done on this call (perhaps wrong Dfun type). Run with full_output = 1 to get quantitative information.\n",
      "  warnings.warn(warning_msg, ODEintWarning)\n"
     ]

    }
   ],
   "source": [
    "medianPos = [0, 0, 0];\n",
    "medianMoment= [0, 0, 0];\n",
    "covMoment = [[1., 0, 0], [0, 1., 0], [0, 0, 1.]];\n",
    "covPos= [[1., 0, 0], [0, 1., 0], [0, 0, 1.]];\n",
    "GravityPot=GravPot();\n",
    "data = DataGenerator(100);\n",
    "data.GenerateInitialCondition( medianPos, covPos, medianMoment, covMoment);   \n",
    "    \n",
    "data.SetPotential(GravityPot);\n",
    "initTime = 0.\n",
    "finalTime =1.\n",
    "numberPoints=100\n",
    "time=np.linspace(initTime, finalTime, numberPoints)\n",
    "data.Propagate(time);\n",
    "data.PlotData();"
   ]
  },
  {
   "cell_type": "code",
   "execution_count": 3,
   "metadata": {},
   "outputs": [
    {
     "data": {
      "text/plain": [
       "array([17855.31719798,  9689.11990577, 19985.35591772, 23449.18769643,\n",
       "       16168.41851924, 26469.69780931])"
      ]
     },
     "execution_count": 3,
     "metadata": {},
     "output_type": "execute_result"
    }
   ],
   "source": [
    "data.data1[0].CurrentState.statToVec()"
   ]
  },
  {
   "cell_type": "code",
   "execution_count": 4,
   "metadata": {},
   "outputs": [
    {
     "data": {
      "text/plain": [
       "array([-0.66032823,  0.59620339, -0.41195805,  0.13250105, -0.4781397 ,\n",
       "       -0.78746204])"
      ]
     },
     "execution_count": 4,
     "metadata": {},
     "output_type": "execute_result"
    }
   ],
   "source": [
    "#initial condition for first particle\n",
    "data.data1[0].Trajectory[0].statToVec()"
   ]
  },
  {
   "cell_type": "code",
   "execution_count": 5,
   "metadata": {},
   "outputs": [
    {
     "data": {
      "text/plain": [
       "array([17855.31719798,  9689.11990577, 19985.35591772, 23449.18769643,\n",
       "       16168.41851924, 26469.69780931])"
      ]
     },
     "execution_count": 5,
     "metadata": {},
     "output_type": "execute_result"
    }
   ],
   "source": [
    "#state at the end of simulation time for the last paeticle\n",
    "data.data1[0].Trajectory[-1].statToVec()"
   ]
  },
  {
   "cell_type": "code",
   "execution_count": 6,
   "metadata": {},
   "outputs": [
    {
     "data": {
      "text/plain": [
       "array([ 0.80326436,  0.23955054,  0.44194469,  1.48915175, -1.61638142,\n",
       "        1.67606795])"
      ]
     },
     "execution_count": 6,
     "metadata": {},
     "output_type": "execute_result"
    }
   ],
   "source": [
    "#initial condition for the second particle\n",
    "data.data2[0].Trajectory[0].statToVec()"
   ]
  },
  {
   "cell_type": "code",
   "execution_count": 7,
   "metadata": {},
   "outputs": [
    {
     "data": {
      "text/plain": [
       "array([18156.03652512, 15703.60273331, 20734.3822831 , 15960.32637939,\n",
       "       12251.35698656, 18104.60442066])"
      ]
     },
     "execution_count": 7,
     "metadata": {},
     "output_type": "execute_result"
    }
   ],
   "source": [
    "#initial condition for the second particle\n",
    "data.data2[0].Trajectory[-1].statToVec()"
   ]
  },
  {
   "cell_type": "code",
   "execution_count": 17,
   "metadata": {},
   "outputs": [],
   "source": [
    "# idea number 1 -- create a panda dataframes with the initial and final states for pairs of particles"
   ]
  },
  {
   "cell_type": "code",
   "execution_count": 8,
   "metadata": {},
   "outputs": [],
   "source": [
    "import pandas as pd"
   ]
  },
  {
   "cell_type": "code",
   "execution_count": 9,
   "metadata": {},
   "outputs": [],
   "source": [
    "newFrame=[]\n",
    "for i in range(data.NumberParticles):\n",
    "    newFrame.append(np.array([data.data1[i].Trajectory[0].statToVec(),data.data2[i].Trajectory[0].statToVec(),data.data1[i].Trajectory[-1].statToVec(),data.data2[i].Trajectory[-1].statToVec()]).reshape(24))"
   ]
  },
  {
   "cell_type": "code",
   "execution_count": 11,
   "metadata": {},
   "outputs": [],
   "source": [
    "newFrame=pd.DataFrame(newFrame)"
   ]
  },
  {
   "cell_type": "code",
   "execution_count": 42,
   "metadata": {},
   "outputs": [
    {
     "data": {
      "text/plain": [
       "array([3, 2])"
      ]
     },
     "execution_count": 42,
     "metadata": {},
     "output_type": "execute_result"
    }
   ],
   "source": []
  },
  {
   "cell_type": "code",
   "execution_count": 45,
   "metadata": {},
   "outputs": [
    {
     "data": {
      "text/plain": [
       "4"
      ]
     },
     "execution_count": 45,
     "metadata": {},
     "output_type": "execute_result"
    }
   ],
   "source": [
    "v.size"
   ]
  },
  {
   "cell_type": "code",
   "execution_count": null,
   "metadata": {},
   "outputs": [],
   "source": []
  }
 ],
 "metadata": {
  "kernelspec": {
   "display_name": "Python 3",
   "language": "python",
   "name": "python3"
  },
  "language_info": {
   "codemirror_mode": {
    "name": "ipython",
    "version": 3
   },
   "file_extension": ".py",
   "mimetype": "text/x-python",
   "name": "python",
   "nbconvert_exporter": "python",
   "pygments_lexer": "ipython3",
   "version": "3.6.8"
  }
 },
 "nbformat": 4,
 "nbformat_minor": 2
}
