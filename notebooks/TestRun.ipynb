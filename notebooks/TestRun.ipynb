{
 "cells": [
  {
   "cell_type": "markdown",
   "metadata": {},
   "source": [
    "# Test Run\n",
    "\n",
    "Creates a simple test run to exemplify trajectories. The matplotlib magic is selected to 'qt' for interactivty purposes."
   ]
  },
  {
   "cell_type": "code",
   "execution_count": 1,
   "metadata": {},
   "outputs": [],
   "source": [
    "%matplotlib qt\n",
    "import sys\n",
    "sys.path.append('../DataGeneration/')\n",
    "from DataGenerator import DataGenerator\n",
    "from Potential import GravPot\n",
    "import numpy as np"
   ]
  },
  {
   "cell_type": "code",
   "execution_count": 2,
   "metadata": {},
   "outputs": [
    {
     "name": "stderr",
     "output_type": "stream",
     "text": [
      "/home/guimas/anaconda2/envs/py36/lib/python3.6/site-packages/scipy/integrate/odepack.py:236: ODEintWarning: Excess work done on this call (perhaps wrong Dfun type). Run with full_output = 1 to get quantitative information.\n",
      "  warnings.warn(warning_msg, ODEintWarning)\n"
     ]
    }
   ],
   "source": [
    "medianPos = [0, 0, 0];\n",
    "medianMoment= [0, 0, 0];\n",
    "covMoment = [[1., 0, 0], [0, 1., 0], [0, 0, 1.]];\n",
    "covPos= [[1., 0, 0], [0, 1., 0], [0, 0, 1.]];\n",
    "GravityPot=GravPot();\n",
    "data = DataGenerator(10);\n",
    "data.GenerateInitialCondition( medianPos, covPos, medianMoment, covMoment);   \n",
    "    \n",
    "data.SetPotential(GravityPot);\n",
    "initTime = 0.\n",
    "finalTime =1.\n",
    "numberPoints=100\n",
    "time=np.linspace(initTime, finalTime, numberPoints)\n",
    "data.Propagate(time);\n",
    "data.PlotData();"
   ]
  },
  {
   "cell_type": "code",
   "execution_count": null,
   "metadata": {},
   "outputs": [],
   "source": []
  }
 ],
 "metadata": {
  "kernelspec": {
   "display_name": "py36",
   "language": "python",
   "name": "py36"
  },
  "language_info": {
   "codemirror_mode": {
    "name": "ipython",
    "version": 3
   },
   "file_extension": ".py",
   "mimetype": "text/x-python",
   "name": "python",
   "nbconvert_exporter": "python",
   "pygments_lexer": "ipython3",
   "version": "3.6.5"
  }
 },
 "nbformat": 4,
 "nbformat_minor": 2
}
