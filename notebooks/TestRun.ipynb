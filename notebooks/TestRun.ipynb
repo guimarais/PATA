{
 "cells": [
  {
   "cell_type": "code",
   "execution_count": 8,
   "metadata": {},
   "outputs": [],
   "source": [
    "%matplotlib qt\n",
    "import sys\n",
    "sys.path.append('../DataGeneration/')\n",
    "from DataGenerator import DataGenerator\n",
    "from Potential import GravPot\n",
    "import numpy as np\n",
    "import pandas as pd"
   ]
  },
  {
   "cell_type": "code",
   "execution_count": 2,
   "metadata": {},
   "outputs": [
    {
     "name": "stderr",
     "output_type": "stream",
     "text": [
      "/home/guimas/anaconda2/envs/py36/lib/python3.6/site-packages/scipy/integrate/odepack.py:236: ODEintWarning: Excess work done on this call (perhaps wrong Dfun type). Run with full_output = 1 to get quantitative information.\n",
      "  warnings.warn(warning_msg, ODEintWarning)\n"
     ]
    }
   ],
   "source": [
    "medianPos = [0, 0, 0];\n",
    "medianMoment= [0, 0, 0];\n",
    "covMoment = [[1., 0, 0], [0, 1., 0], [0, 0, 1.]];\n",
    "covPos= [[1., 0, 0], [0, 1., 0], [0, 0, 1.]];\n",
    "GravityPot=GravPot();\n",
    "data = DataGenerator(10);\n",
    "data.GenerateInitialCondition( medianPos, covPos, medianMoment, covMoment);   \n",
    "    \n",
    "data.SetPotential(GravityPot);\n",
    "initTime = 0.\n",
    "finalTime =1.\n",
    "numberPoints=100\n",
    "time=np.linspace(initTime, finalTime, numberPoints)\n",
    "data.Propagate(time);\n",
    "data.PlotData();"
   ]
  },
  {
   "cell_type": "code",
   "execution_count": 3,
   "metadata": {},
   "outputs": [
    {
     "data": {
      "text/plain": [
       "array([-8677.73197371,  5982.69509644,  1071.39969555,  4289.80296451,\n",
       "       -2916.50129518,  -590.43525382])"
      ]
     },
     "execution_count": 3,
     "metadata": {},
     "output_type": "execute_result"
    }
   ],
   "source": [
    "data.data1[0].CurrentState.statToVec()"
   ]
  },
  {
   "cell_type": "code",
   "execution_count": 4,
   "metadata": {},
   "outputs": [
    {
     "data": {
      "text/plain": [
       "array([ 0.23647108,  1.82533896, -1.09098085, -1.95337386,  0.57528853,\n",
       "        1.51235128])"
      ]
     },
     "execution_count": 4,
     "metadata": {},
     "output_type": "execute_result"
    }
   ],
   "source": [
    "#initial condition for first particle\n",
    "data.data1[0].Trajectory[0].statToVec()"
   ]
  },
  {
   "cell_type": "code",
   "execution_count": 5,
   "metadata": {},
   "outputs": [
    {
     "data": {
      "text/plain": [
       "array([-8677.73197371,  5982.69509644,  1071.39969555,  4289.80296451,\n",
       "       -2916.50129518,  -590.43525382])"
      ]
     },
     "execution_count": 5,
     "metadata": {},
     "output_type": "execute_result"
    }
   ],
   "source": [
    "#state at the end of simulation time for the last paeticle\n",
    "data.data1[0].Trajectory[-1].statToVec()"
   ]
  },
  {
   "cell_type": "code",
   "execution_count": 15,
   "metadata": {},
   "outputs": [
    {
     "data": {
      "text/plain": [
       "array([-1.15476617,  1.380345  ,  0.57391736, -0.25700254, -0.62164163,\n",
       "        0.75088488])"
      ]
     },
     "execution_count": 15,
     "metadata": {},
     "output_type": "execute_result"
    }
   ],
   "source": [
    "#initial condition for the second particle\n",
    "data.data2[0].Trajectory[0].statToVec()"
   ]
  },
  {
   "cell_type": "code",
   "execution_count": 16,
   "metadata": {},
   "outputs": [
    {
     "data": {
      "text/plain": [
       "array([ -147.40546915, -1188.80211138,  1254.86436982, -9392.40001432,\n",
       "        6483.97011642,  1132.15558899])"
      ]
     },
     "execution_count": 16,
     "metadata": {},
     "output_type": "execute_result"
    }
   ],
   "source": [
    "#Final condition for the second particle\n",
    "data.data2[0].Trajectory[-1].statToVec()"
   ]
  },
  {
   "cell_type": "code",
   "execution_count": null,
   "metadata": {},
   "outputs": [],
   "source": [
    "# idea number 1 -- create a panda dataframes with the initial and final states for pairs of particles"
   ]
  },
  {
   "cell_type": "code",
   "execution_count": 17,
   "metadata": {},
   "outputs": [
    {
     "data": {
      "text/plain": [
       "<DataGenerator.Particle at 0x7fe99d9a01d0>"
      ]
     },
     "execution_count": 17,
     "metadata": {},
     "output_type": "execute_result"
    }
   ],
   "source": [
    "data.data1[0]."
   ]
  },
  {
   "cell_type": "code",
   "execution_count": null,
   "metadata": {},
   "outputs": [],
   "source": []
  },
  {
   "cell_type": "code",
   "execution_count": null,
   "metadata": {},
   "outputs": [],
   "source": [
    "initdf = pd.DataFrame(columns=[''])"
   ]
  }
 ],
 "metadata": {
  "kernelspec": {
   "display_name": "py36",
   "language": "python",
   "name": "py36"
  },
  "language_info": {
   "codemirror_mode": {
    "name": "ipython",
    "version": 3
   },
   "file_extension": ".py",
   "mimetype": "text/x-python",
   "name": "python",
   "nbconvert_exporter": "python",
   "pygments_lexer": "ipython3",
   "version": "3.6.5"
  }
 },
 "nbformat": 4,
 "nbformat_minor": 2
}
