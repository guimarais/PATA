{
 "cells": [
  {
   "cell_type": "code",
   "execution_count": 1,
   "metadata": {},
   "outputs": [],
   "source": [
    "import matplotlib\n",
    "%matplotlib qt\n",
    "import sys\n",
    "sys.path.append('../DataGeneration/')\n",
    "from DataGenerator import DataGenerator\n",
    "from Potential import GravPot\n",
    "import numpy as np\n"
   ]
  },
  {
   "cell_type": "code",
   "execution_count": 10,
   "metadata": {},
   "outputs": [
    {
     "name": "stderr",
     "output_type": "stream",
     "text": [
      "/home/sbrandao/anaconda3/lib/python3.6/site-packages/scipy/integrate/odepack.py:218: ODEintWarning: Excess work done on this call (perhaps wrong Dfun type). Run with full_output = 1 to get quantitative information.\n",
      "  warnings.warn(warning_msg, ODEintWarning)\n"
     ]
    }
   ],
   "source": [
    "medianPos = [0, 0, 0];\n",
    "medianMoment= [0, 0, 0];\n",
    "covMoment = [[1., 0, 0], [0, 1., 0], [0, 0, 1.]];\n",
    "covPos= [[1., 0, 0], [0, 1., 0], [0, 0, 1.]];\n",
    "GravityPot=GravPot();\n",
    "data = DataGenerator(10);\n",
    "data.GenerateInitialCondition( medianPos, covPos, medianMoment, covMoment);   \n",
    "    \n",
    "data.SetPotential(GravityPot);\n",
    "initTime = 0.\n",
    "finalTime =1.\n",
    "numberPoints=100\n",
    "time=np.linspace(initTime, finalTime, numberPoints)\n",
    "data.Propagate(time);\n",
    "data.PlotData();"
   ]
  },
  {
   "cell_type": "code",
   "execution_count": 7,
   "metadata": {},
   "outputs": [
    {
     "data": {
      "text/plain": [
       "array([  3446.82199024,   2390.78097169,  -1408.22811587,   4211.25500318,\n",
       "         8335.10974498, -13490.69796819])"
      ]
     },
     "execution_count": 7,
     "metadata": {},
     "output_type": "execute_result"
    }
   ],
   "source": [
    "data.data1[0].CurrentState.statToVec()"
   ]
  },
  {
   "cell_type": "code",
   "execution_count": 13,
   "metadata": {},
   "outputs": [
    {
     "data": {
      "text/plain": [
       "array([ 0.61452297, -0.69302083,  2.27297788,  1.19518622,  0.81707129,\n",
       "       -1.24464483])"
      ]
     },
     "execution_count": 13,
     "metadata": {},
     "output_type": "execute_result"
    }
   ],
   "source": [
    "#initial condition for first particle\n",
    "data.data1[0].Trajectory[0].statToVec()"
   ]
  },
  {
   "cell_type": "code",
   "execution_count": 14,
   "metadata": {},
   "outputs": [
    {
     "data": {
      "text/plain": [
       "array([  8173.83725872, -13058.02136789,  -8259.61455309, -18807.0276387 ,\n",
       "        -7658.05046771,  -9679.36102053])"
      ]
     },
     "execution_count": 14,
     "metadata": {},
     "output_type": "execute_result"
    }
   ],
   "source": [
    "#state at the end of simulation time for the last paeticle\n",
    "data.data1[0].Trajectory[-1].statToVec()"
   ]
  },
  {
   "cell_type": "code",
   "execution_count": 15,
   "metadata": {},
   "outputs": [
    {
     "data": {
      "text/plain": [
       "array([-1.8182243 , -0.23925817,  0.14720297,  0.00790082,  2.17154687,\n",
       "        0.80489963])"
      ]
     },
     "execution_count": 15,
     "metadata": {},
     "output_type": "execute_result"
    }
   ],
   "source": [
    "#initial condition for the second particle\n",
    "data.data2[0].Trajectory[0].statToVec()"
   ]
  },
  {
   "cell_type": "code",
   "execution_count": 16,
   "metadata": {},
   "outputs": [
    {
     "data": {
      "text/plain": [
       "array([  9190.6070367 , -14301.65119636,  -8951.97929777,  37676.11836186,\n",
       "       -21672.17868259,  -8410.78212857])"
      ]
     },
     "execution_count": 16,
     "metadata": {},
     "output_type": "execute_result"
    }
   ],
   "source": [
    "#initial condition for the second particle\n",
    "data.data2[0].Trajectory[-1].statToVec()"
   ]
  },
  {
   "cell_type": "code",
   "execution_count": null,
   "metadata": {},
   "outputs": [],
   "source": [
    "# idea number 1 -- create a panda dataframes with the initial and final states for pairs of particles"
   ]
  }
 ],
 "metadata": {
  "kernelspec": {
   "display_name": "Python 3",
   "language": "python",
   "name": "python3"
  },
  "language_info": {
   "codemirror_mode": {
    "name": "ipython",
    "version": 3
   },
   "file_extension": ".py",
   "mimetype": "text/x-python",
   "name": "python",
   "nbconvert_exporter": "python",
   "pygments_lexer": "ipython3",
   "version": "3.6.5"
  }
 },
 "nbformat": 4,
 "nbformat_minor": 2
}
