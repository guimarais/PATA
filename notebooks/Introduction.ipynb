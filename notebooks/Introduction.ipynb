{
 "cells": [
  {
   "cell_type": "markdown",
   "metadata": {},
   "source": [
    "# Introduction\n",
    "\n",
    "This project is the PATA!"
   ]
  },
  {
   "cell_type": "code",
   "execution_count": 6,
   "metadata": {},
   "outputs": [],
   "source": [
    "import matplotlib.pyplot as plt\n",
    "import sys\n",
    "sys.path.append('../DataGeneration/')\n",
    "import Potential\n",
    "import DataGenerator"
   ]
  },
  {
   "cell_type": "code",
   "execution_count": 1,
   "metadata": {},
   "outputs": [],
   "source": [
    "def my_function(a, N=1.0):\n",
    "    \"\"\"Multiplies a parameter \"a\" by itself and by and additional constant \"N\"\n",
    "    \n",
    "    Parameters\n",
    "    -----------\n",
    "    a: float\n",
    "        Variable to multiply by itself\n",
    "    N: float\n",
    "        Variable to multiply to a*a, optional.\n",
    "    \n",
    "    Returns\n",
    "    -----------\n",
    "    out: float\n",
    "        Result of the multiplication\n",
    "        \n",
    "    Example\n",
    "    -----------\n",
    "    b = my_function(2, N=3)\n",
    "    print(b)\n",
    "    #b = 12\n",
    "    \"\"\"\n",
    "        \n",
    "    out = a*a*N\n",
    "    return out"
   ]
  },
  {
   "cell_type": "code",
   "execution_count": 2,
   "metadata": {},
   "outputs": [],
   "source": [
    "b = my_function(2,N=3)"
   ]
  },
  {
   "cell_type": "code",
   "execution_count": 3,
   "metadata": {},
   "outputs": [
    {
     "data": {
      "text/plain": [
       "12"
      ]
     },
     "execution_count": 3,
     "metadata": {},
     "output_type": "execute_result"
    }
   ],
   "source": [
    "b"
   ]
  },
  {
   "cell_type": "code",
   "execution_count": null,
   "metadata": {},
   "outputs": [],
   "source": []
  }
 ],
 "metadata": {
  "kernelspec": {
   "display_name": "py36",
   "language": "python",
   "name": "py36"
  },
  "language_info": {
   "codemirror_mode": {
    "name": "ipython",
    "version": 3
   },
   "file_extension": ".py",
   "mimetype": "text/x-python",
   "name": "python",
   "nbconvert_exporter": "python",
   "pygments_lexer": "ipython3",
   "version": "3.6.5"
  }
 },
 "nbformat": 4,
 "nbformat_minor": 2
}
