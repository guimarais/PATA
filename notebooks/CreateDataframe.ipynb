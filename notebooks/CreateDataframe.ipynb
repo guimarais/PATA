{
 "cells": [
  {
   "cell_type": "markdown",
   "metadata": {},
   "source": [
    "# Create Dataframe\n",
    "\n",
    "Where the 'dataToDataframe' function is developped. Converts data into a pandas dataframe."
   ]
  },
  {
   "cell_type": "code",
   "execution_count": 1,
   "metadata": {},
   "outputs": [],
   "source": [
    "%matplotlib qt\n",
    "import sys\n",
    "sys.path.append('../DataGeneration/')\n",
    "from DataGenerator import DataGenerator\n",
    "from Potential import GravPot\n",
    "import numpy as np\n",
    "import pandas as pd"
   ]
  },
  {
   "cell_type": "code",
   "execution_count": 2,
   "metadata": {},
   "outputs": [
    {
     "name": "stderr",
     "output_type": "stream",
     "text": [
      "/home/guimas/anaconda2/envs/py36/lib/python3.6/site-packages/scipy/integrate/odepack.py:236: ODEintWarning: Excess work done on this call (perhaps wrong Dfun type). Run with full_output = 1 to get quantitative information.\n",
      "  warnings.warn(warning_msg, ODEintWarning)\n"
     ]
    }
   ],
   "source": [
    "medianPos = [0, 0, 0];\n",
    "medianMoment= [0, 0, 0];\n",
    "covMoment = [[1., 0, 0], [0, 1., 0], [0, 0, 1.]];\n",
    "covPos= [[1., 0, 0], [0, 1., 0], [0, 0, 1.]];\n",
    "GravityPot=GravPot();\n",
    "data = DataGenerator(10);\n",
    "data.GenerateInitialCondition( medianPos, covPos, medianMoment, covMoment);   \n",
    "    \n",
    "data.SetPotential(GravityPot);\n",
    "initTime = 0.\n",
    "finalTime =1.\n",
    "numberPoints=100\n",
    "time=np.linspace(initTime, finalTime, numberPoints)\n",
    "data.Propagate(time);\n",
    "data.PlotData();"
   ]
  },
  {
   "cell_type": "code",
   "execution_count": 3,
   "metadata": {},
   "outputs": [
    {
     "data": {
      "text/plain": [
       "array([-7733.37973519,  -168.78989042,  4557.3165487 , -8980.46899905,\n",
       "       -1551.23639375, 11664.63113129])"
      ]
     },
     "execution_count": 3,
     "metadata": {},
     "output_type": "execute_result"
    }
   ],
   "source": [
    "data.data1[0].CurrentState.statToVec()"
   ]
  },
  {
   "cell_type": "markdown",
   "metadata": {},
   "source": [
    "Initial conditions for the first particle"
   ]
  },
  {
   "cell_type": "code",
   "execution_count": 4,
   "metadata": {},
   "outputs": [
    {
     "data": {
      "text/plain": [
       "array([-0.19128359, -0.27820415,  0.85905248,  0.79917066,  0.98554067,\n",
       "        2.84706745])"
      ]
     },
     "execution_count": 4,
     "metadata": {},
     "output_type": "execute_result"
    }
   ],
   "source": [
    "data.data1[0].Trajectory[0].statToVec()"
   ]
  },
  {
   "cell_type": "markdown",
   "metadata": {},
   "source": [
    "State at the end of simulation time for the last paeticle\n"
   ]
  },
  {
   "cell_type": "code",
   "execution_count": 5,
   "metadata": {},
   "outputs": [
    {
     "data": {
      "text/plain": [
       "array([-7733.37973519,  -168.78989042,  4557.3165487 , -8980.46899905,\n",
       "       -1551.23639375, 11664.63113129])"
      ]
     },
     "execution_count": 5,
     "metadata": {},
     "output_type": "execute_result"
    }
   ],
   "source": [
    "data.data1[0].Trajectory[-1].statToVec()"
   ]
  },
  {
   "cell_type": "markdown",
   "metadata": {},
   "source": [
    "Initial condition for the second particle"
   ]
  },
  {
   "cell_type": "code",
   "execution_count": 6,
   "metadata": {},
   "outputs": [
    {
     "data": {
      "text/plain": [
       "array([-1.20226403, -1.25834061, -1.18365005, -1.38309294,  2.40966862,\n",
       "        1.15940332])"
      ]
     },
     "execution_count": 6,
     "metadata": {},
     "output_type": "execute_result"
    }
   ],
   "source": [
    "data.data2[0].Trajectory[0].statToVec()"
   ]
  },
  {
   "cell_type": "markdown",
   "metadata": {},
   "source": [
    "Final condition for the second particle"
   ]
  },
  {
   "cell_type": "code",
   "execution_count": 7,
   "metadata": {},
   "outputs": [
    {
     "data": {
      "text/plain": [
       "array([-1.20226403, -1.25834061, -1.18365005, -1.38309294,  2.40966862,\n",
       "        1.15940332])"
      ]
     },
     "execution_count": 7,
     "metadata": {},
     "output_type": "execute_result"
    }
   ],
   "source": [
    "data.data2[0].Trajectory[0].statToVec()"
   ]
  },
  {
   "cell_type": "code",
   "execution_count": 8,
   "metadata": {},
   "outputs": [],
   "source": [
    "# idea number 1 -- create a panda dataframes with the initial and final states for pairs of particles"
   ]
  },
  {
   "cell_type": "code",
   "execution_count": 9,
   "metadata": {},
   "outputs": [
    {
     "data": {
      "text/plain": [
       "10"
      ]
     },
     "execution_count": 9,
     "metadata": {},
     "output_type": "execute_result"
    }
   ],
   "source": [
    "len(data.data1)"
   ]
  },
  {
   "cell_type": "code",
   "execution_count": 10,
   "metadata": {},
   "outputs": [],
   "source": [
    "mat = np.zeros((len(data.data1),2*len(data.data1[0].Trajectory[0].statToVec())))\n",
    "for i in range(len(data.data1)):\n",
    "    mat[i,:] = np.array([*data.data1[i].Trajectory[0].statToVec(),*data.data2[i].Trajectory[0].statToVec()])"
   ]
  },
  {
   "cell_type": "markdown",
   "metadata": {},
   "source": [
    "### Select the header"
   ]
  },
  {
   "cell_type": "code",
   "execution_count": 11,
   "metadata": {},
   "outputs": [],
   "source": [
    "header = ['xi1','yi1','zi1','pxi1','pyi1','pzi1','xi2','yi2','zi2','pxi2','pyi2','pzi2']"
   ]
  },
  {
   "cell_type": "code",
   "execution_count": 12,
   "metadata": {},
   "outputs": [],
   "source": [
    "df = pd.DataFrame(data=mat, columns=header)"
   ]
  },
  {
   "cell_type": "code",
   "execution_count": 13,
   "metadata": {},
   "outputs": [
    {
     "data": {
      "text/html": [
       "<div>\n",
       "<style scoped>\n",
       "    .dataframe tbody tr th:only-of-type {\n",
       "        vertical-align: middle;\n",
       "    }\n",
       "\n",
       "    .dataframe tbody tr th {\n",
       "        vertical-align: top;\n",
       "    }\n",
       "\n",
       "    .dataframe thead th {\n",
       "        text-align: right;\n",
       "    }\n",
       "</style>\n",
       "<table border=\"1\" class=\"dataframe\">\n",
       "  <thead>\n",
       "    <tr style=\"text-align: right;\">\n",
       "      <th></th>\n",
       "      <th>xi1</th>\n",
       "      <th>yi1</th>\n",
       "      <th>zi1</th>\n",
       "      <th>pxi1</th>\n",
       "      <th>pyi1</th>\n",
       "      <th>pzi1</th>\n",
       "      <th>xi2</th>\n",
       "      <th>yi2</th>\n",
       "      <th>zi2</th>\n",
       "      <th>pxi2</th>\n",
       "      <th>pyi2</th>\n",
       "      <th>pzi2</th>\n",
       "    </tr>\n",
       "  </thead>\n",
       "  <tbody>\n",
       "    <tr>\n",
       "      <th>0</th>\n",
       "      <td>-0.191284</td>\n",
       "      <td>-0.278204</td>\n",
       "      <td>0.859052</td>\n",
       "      <td>0.799171</td>\n",
       "      <td>0.985541</td>\n",
       "      <td>2.847067</td>\n",
       "      <td>-1.202264</td>\n",
       "      <td>-1.258341</td>\n",
       "      <td>-1.183650</td>\n",
       "      <td>-1.383093</td>\n",
       "      <td>2.409669</td>\n",
       "      <td>1.159403</td>\n",
       "    </tr>\n",
       "    <tr>\n",
       "      <th>1</th>\n",
       "      <td>-0.373553</td>\n",
       "      <td>-0.182037</td>\n",
       "      <td>0.672511</td>\n",
       "      <td>1.147264</td>\n",
       "      <td>0.586826</td>\n",
       "      <td>0.575362</td>\n",
       "      <td>1.728549</td>\n",
       "      <td>1.573925</td>\n",
       "      <td>-0.573910</td>\n",
       "      <td>0.348797</td>\n",
       "      <td>0.984578</td>\n",
       "      <td>2.309406</td>\n",
       "    </tr>\n",
       "    <tr>\n",
       "      <th>2</th>\n",
       "      <td>-0.356662</td>\n",
       "      <td>-1.047794</td>\n",
       "      <td>-1.114685</td>\n",
       "      <td>-0.130352</td>\n",
       "      <td>-0.652876</td>\n",
       "      <td>1.170255</td>\n",
       "      <td>-0.856076</td>\n",
       "      <td>-0.150077</td>\n",
       "      <td>-1.675466</td>\n",
       "      <td>-0.669335</td>\n",
       "      <td>1.239063</td>\n",
       "      <td>0.023564</td>\n",
       "    </tr>\n",
       "    <tr>\n",
       "      <th>3</th>\n",
       "      <td>-0.299873</td>\n",
       "      <td>1.081254</td>\n",
       "      <td>-0.197105</td>\n",
       "      <td>0.896265</td>\n",
       "      <td>0.836662</td>\n",
       "      <td>-1.333916</td>\n",
       "      <td>0.568527</td>\n",
       "      <td>0.079906</td>\n",
       "      <td>-1.811234</td>\n",
       "      <td>0.463999</td>\n",
       "      <td>-0.396357</td>\n",
       "      <td>-0.752809</td>\n",
       "    </tr>\n",
       "    <tr>\n",
       "      <th>4</th>\n",
       "      <td>2.644010</td>\n",
       "      <td>-0.414863</td>\n",
       "      <td>0.816311</td>\n",
       "      <td>-0.317662</td>\n",
       "      <td>0.500257</td>\n",
       "      <td>-0.697748</td>\n",
       "      <td>0.083414</td>\n",
       "      <td>0.783524</td>\n",
       "      <td>0.280158</td>\n",
       "      <td>-1.298947</td>\n",
       "      <td>-0.202346</td>\n",
       "      <td>-0.505570</td>\n",
       "    </tr>\n",
       "    <tr>\n",
       "      <th>5</th>\n",
       "      <td>1.197169</td>\n",
       "      <td>1.773522</td>\n",
       "      <td>-0.287430</td>\n",
       "      <td>1.028080</td>\n",
       "      <td>-1.587069</td>\n",
       "      <td>-2.475746</td>\n",
       "      <td>-1.125660</td>\n",
       "      <td>0.011436</td>\n",
       "      <td>0.043035</td>\n",
       "      <td>0.743030</td>\n",
       "      <td>0.625095</td>\n",
       "      <td>-0.259035</td>\n",
       "    </tr>\n",
       "    <tr>\n",
       "      <th>6</th>\n",
       "      <td>2.471403</td>\n",
       "      <td>-0.121734</td>\n",
       "      <td>3.201680</td>\n",
       "      <td>1.245273</td>\n",
       "      <td>0.694118</td>\n",
       "      <td>1.003647</td>\n",
       "      <td>-0.397292</td>\n",
       "      <td>-0.360076</td>\n",
       "      <td>1.175075</td>\n",
       "      <td>-0.224398</td>\n",
       "      <td>-0.018911</td>\n",
       "      <td>0.470317</td>\n",
       "    </tr>\n",
       "    <tr>\n",
       "      <th>7</th>\n",
       "      <td>1.334084</td>\n",
       "      <td>1.002604</td>\n",
       "      <td>0.590724</td>\n",
       "      <td>1.970350</td>\n",
       "      <td>-0.698908</td>\n",
       "      <td>0.582885</td>\n",
       "      <td>0.893935</td>\n",
       "      <td>-0.367053</td>\n",
       "      <td>0.317740</td>\n",
       "      <td>-0.727489</td>\n",
       "      <td>0.524307</td>\n",
       "      <td>-0.937773</td>\n",
       "    </tr>\n",
       "    <tr>\n",
       "      <th>8</th>\n",
       "      <td>0.327127</td>\n",
       "      <td>0.876437</td>\n",
       "      <td>-1.241527</td>\n",
       "      <td>-0.889473</td>\n",
       "      <td>-0.464980</td>\n",
       "      <td>-1.318597</td>\n",
       "      <td>-1.382967</td>\n",
       "      <td>0.971514</td>\n",
       "      <td>0.834097</td>\n",
       "      <td>0.866457</td>\n",
       "      <td>0.982276</td>\n",
       "      <td>0.069924</td>\n",
       "    </tr>\n",
       "    <tr>\n",
       "      <th>9</th>\n",
       "      <td>1.077131</td>\n",
       "      <td>-0.064017</td>\n",
       "      <td>-1.409197</td>\n",
       "      <td>-1.562334</td>\n",
       "      <td>1.355903</td>\n",
       "      <td>-1.701384</td>\n",
       "      <td>0.656362</td>\n",
       "      <td>-0.580865</td>\n",
       "      <td>-0.430120</td>\n",
       "      <td>-0.399701</td>\n",
       "      <td>-1.781950</td>\n",
       "      <td>-1.601330</td>\n",
       "    </tr>\n",
       "  </tbody>\n",
       "</table>\n",
       "</div>"
      ],
      "text/plain": [
       "        xi1       yi1       zi1      pxi1      pyi1      pzi1       xi2  \\\n",
       "0 -0.191284 -0.278204  0.859052  0.799171  0.985541  2.847067 -1.202264   \n",
       "1 -0.373553 -0.182037  0.672511  1.147264  0.586826  0.575362  1.728549   \n",
       "2 -0.356662 -1.047794 -1.114685 -0.130352 -0.652876  1.170255 -0.856076   \n",
       "3 -0.299873  1.081254 -0.197105  0.896265  0.836662 -1.333916  0.568527   \n",
       "4  2.644010 -0.414863  0.816311 -0.317662  0.500257 -0.697748  0.083414   \n",
       "5  1.197169  1.773522 -0.287430  1.028080 -1.587069 -2.475746 -1.125660   \n",
       "6  2.471403 -0.121734  3.201680  1.245273  0.694118  1.003647 -0.397292   \n",
       "7  1.334084  1.002604  0.590724  1.970350 -0.698908  0.582885  0.893935   \n",
       "8  0.327127  0.876437 -1.241527 -0.889473 -0.464980 -1.318597 -1.382967   \n",
       "9  1.077131 -0.064017 -1.409197 -1.562334  1.355903 -1.701384  0.656362   \n",
       "\n",
       "        yi2       zi2      pxi2      pyi2      pzi2  \n",
       "0 -1.258341 -1.183650 -1.383093  2.409669  1.159403  \n",
       "1  1.573925 -0.573910  0.348797  0.984578  2.309406  \n",
       "2 -0.150077 -1.675466 -0.669335  1.239063  0.023564  \n",
       "3  0.079906 -1.811234  0.463999 -0.396357 -0.752809  \n",
       "4  0.783524  0.280158 -1.298947 -0.202346 -0.505570  \n",
       "5  0.011436  0.043035  0.743030  0.625095 -0.259035  \n",
       "6 -0.360076  1.175075 -0.224398 -0.018911  0.470317  \n",
       "7 -0.367053  0.317740 -0.727489  0.524307 -0.937773  \n",
       "8  0.971514  0.834097  0.866457  0.982276  0.069924  \n",
       "9 -0.580865 -0.430120 -0.399701 -1.781950 -1.601330  "
      ]
     },
     "execution_count": 13,
     "metadata": {},
     "output_type": "execute_result"
    }
   ],
   "source": [
    "df"
   ]
  },
  {
   "cell_type": "markdown",
   "metadata": {},
   "source": [
    "### Function to create dataframe"
   ]
  },
  {
   "cell_type": "code",
   "execution_count": 18,
   "metadata": {},
   "outputs": [],
   "source": [
    "def dataToDataframe(data):\n",
    "    \"\"\"Creates a dataframe from the data object\n",
    "    \n",
    "    Parameters\n",
    "    -----------\n",
    "    data: PATOBJECT!\n",
    "        Something really ducky!\n",
    "    \n",
    "    Returns\n",
    "    -----------\n",
    "    df: pandas Dataframe\n",
    "        A dataframe with the data.\n",
    "    \"\"\"\n",
    "    \n",
    "    header = ['xi1','yi1','zi1','pxi1','pyi1','pzi1','xi2','yi2','zi2','pxi2','pyi2','pzi2',\n",
    "              'xf1','yf1','zf1','pxf1','pyf1','pzf1','xf2','yf2','zf2','pxf2','pyf2','pzf2']\n",
    "    \n",
    "    mat = np.zeros((len(data.data1),4*len(data.data1[0].Trajectory[0].statToVec())))\n",
    "    for i in range(len(data.data1)):\n",
    "        mat[i,:] = np.array([*data.data1[i].Trajectory[0].statToVec(),\n",
    "                             *data.data2[i].Trajectory[0].statToVec(),\n",
    "                             *data.data1[i].Trajectory[-1].statToVec(),\n",
    "                             *data.data2[i].Trajectory[-1].statToVec()])\n",
    "        \n",
    "    df = pd.DataFrame(data=mat, columns=header)\n",
    "    return df"
   ]
  },
  {
   "cell_type": "code",
   "execution_count": 19,
   "metadata": {},
   "outputs": [],
   "source": [
    "qua = dataToDataframe(data)"
   ]
  },
  {
   "cell_type": "code",
   "execution_count": 20,
   "metadata": {},
   "outputs": [
    {
     "data": {
      "text/html": [
       "<div>\n",
       "<style scoped>\n",
       "    .dataframe tbody tr th:only-of-type {\n",
       "        vertical-align: middle;\n",
       "    }\n",
       "\n",
       "    .dataframe tbody tr th {\n",
       "        vertical-align: top;\n",
       "    }\n",
       "\n",
       "    .dataframe thead th {\n",
       "        text-align: right;\n",
       "    }\n",
       "</style>\n",
       "<table border=\"1\" class=\"dataframe\">\n",
       "  <thead>\n",
       "    <tr style=\"text-align: right;\">\n",
       "      <th></th>\n",
       "      <th>xi1</th>\n",
       "      <th>yi1</th>\n",
       "      <th>zi1</th>\n",
       "      <th>pxi1</th>\n",
       "      <th>pyi1</th>\n",
       "      <th>pzi1</th>\n",
       "      <th>xi2</th>\n",
       "      <th>yi2</th>\n",
       "      <th>zi2</th>\n",
       "      <th>pxi2</th>\n",
       "      <th>...</th>\n",
       "      <th>zf1</th>\n",
       "      <th>pxf1</th>\n",
       "      <th>pyf1</th>\n",
       "      <th>pzf1</th>\n",
       "      <th>xf2</th>\n",
       "      <th>yf2</th>\n",
       "      <th>zf2</th>\n",
       "      <th>pxf2</th>\n",
       "      <th>pyf2</th>\n",
       "      <th>pzf2</th>\n",
       "    </tr>\n",
       "  </thead>\n",
       "  <tbody>\n",
       "    <tr>\n",
       "      <th>0</th>\n",
       "      <td>-0.191284</td>\n",
       "      <td>-0.278204</td>\n",
       "      <td>0.859052</td>\n",
       "      <td>0.799171</td>\n",
       "      <td>0.985541</td>\n",
       "      <td>2.847067</td>\n",
       "      <td>-1.202264</td>\n",
       "      <td>-1.258341</td>\n",
       "      <td>-1.183650</td>\n",
       "      <td>-1.383093</td>\n",
       "      <td>...</td>\n",
       "      <td>4557.316549</td>\n",
       "      <td>-8980.468999</td>\n",
       "      <td>-1551.236394</td>\n",
       "      <td>11664.631131</td>\n",
       "      <td>-3253.900943</td>\n",
       "      <td>-1491.729096</td>\n",
       "      <td>7089.755640</td>\n",
       "      <td>-2092.956000</td>\n",
       "      <td>-239.175026</td>\n",
       "      <td>1350.613205</td>\n",
       "    </tr>\n",
       "    <tr>\n",
       "      <th>1</th>\n",
       "      <td>-0.373553</td>\n",
       "      <td>-0.182037</td>\n",
       "      <td>0.672511</td>\n",
       "      <td>1.147264</td>\n",
       "      <td>0.586826</td>\n",
       "      <td>0.575362</td>\n",
       "      <td>1.728549</td>\n",
       "      <td>1.573925</td>\n",
       "      <td>-0.573910</td>\n",
       "      <td>0.348797</td>\n",
       "      <td>...</td>\n",
       "      <td>-3092.595035</td>\n",
       "      <td>9236.914074</td>\n",
       "      <td>9175.510299</td>\n",
       "      <td>-19806.953450</td>\n",
       "      <td>9836.924810</td>\n",
       "      <td>9634.824657</td>\n",
       "      <td>-16526.801400</td>\n",
       "      <td>12900.120462</td>\n",
       "      <td>12148.236182</td>\n",
       "      <td>-5892.296087</td>\n",
       "    </tr>\n",
       "    <tr>\n",
       "      <th>2</th>\n",
       "      <td>-0.356662</td>\n",
       "      <td>-1.047794</td>\n",
       "      <td>-1.114685</td>\n",
       "      <td>-0.130352</td>\n",
       "      <td>-0.652876</td>\n",
       "      <td>1.170255</td>\n",
       "      <td>-0.856076</td>\n",
       "      <td>-0.150077</td>\n",
       "      <td>-1.675466</td>\n",
       "      <td>-0.669335</td>\n",
       "      <td>...</td>\n",
       "      <td>9150.721536</td>\n",
       "      <td>18761.370003</td>\n",
       "      <td>-25209.751336</td>\n",
       "      <td>1675.316328</td>\n",
       "      <td>4264.117718</td>\n",
       "      <td>-10227.585894</td>\n",
       "      <td>10476.691008</td>\n",
       "      <td>-10451.252350</td>\n",
       "      <td>4989.722911</td>\n",
       "      <td>19188.599310</td>\n",
       "    </tr>\n",
       "    <tr>\n",
       "      <th>3</th>\n",
       "      <td>-0.299873</td>\n",
       "      <td>1.081254</td>\n",
       "      <td>-0.197105</td>\n",
       "      <td>0.896265</td>\n",
       "      <td>0.836662</td>\n",
       "      <td>-1.333916</td>\n",
       "      <td>0.568527</td>\n",
       "      <td>0.079906</td>\n",
       "      <td>-1.811234</td>\n",
       "      <td>0.463999</td>\n",
       "      <td>...</td>\n",
       "      <td>-12126.295339</td>\n",
       "      <td>-803.550496</td>\n",
       "      <td>-9234.622264</td>\n",
       "      <td>-11648.609315</td>\n",
       "      <td>96.062379</td>\n",
       "      <td>-7876.046508</td>\n",
       "      <td>-10988.709197</td>\n",
       "      <td>14144.629525</td>\n",
       "      <td>5154.238913</td>\n",
       "      <td>-11302.425790</td>\n",
       "    </tr>\n",
       "    <tr>\n",
       "      <th>4</th>\n",
       "      <td>2.644010</td>\n",
       "      <td>-0.414863</td>\n",
       "      <td>0.816311</td>\n",
       "      <td>-0.317662</td>\n",
       "      <td>0.500257</td>\n",
       "      <td>-0.697748</td>\n",
       "      <td>0.083414</td>\n",
       "      <td>0.783524</td>\n",
       "      <td>0.280158</td>\n",
       "      <td>-1.298947</td>\n",
       "      <td>...</td>\n",
       "      <td>-528.383720</td>\n",
       "      <td>5951.414907</td>\n",
       "      <td>-35384.912722</td>\n",
       "      <td>-15159.138608</td>\n",
       "      <td>19617.305711</td>\n",
       "      <td>-9160.157480</td>\n",
       "      <td>-625.570308</td>\n",
       "      <td>32358.302256</td>\n",
       "      <td>16646.269985</td>\n",
       "      <td>13567.881475</td>\n",
       "    </tr>\n",
       "  </tbody>\n",
       "</table>\n",
       "<p>5 rows × 24 columns</p>\n",
       "</div>"
      ],
      "text/plain": [
       "        xi1       yi1       zi1      pxi1      pyi1      pzi1       xi2  \\\n",
       "0 -0.191284 -0.278204  0.859052  0.799171  0.985541  2.847067 -1.202264   \n",
       "1 -0.373553 -0.182037  0.672511  1.147264  0.586826  0.575362  1.728549   \n",
       "2 -0.356662 -1.047794 -1.114685 -0.130352 -0.652876  1.170255 -0.856076   \n",
       "3 -0.299873  1.081254 -0.197105  0.896265  0.836662 -1.333916  0.568527   \n",
       "4  2.644010 -0.414863  0.816311 -0.317662  0.500257 -0.697748  0.083414   \n",
       "\n",
       "        yi2       zi2      pxi2      ...                zf1          pxf1  \\\n",
       "0 -1.258341 -1.183650 -1.383093      ...        4557.316549  -8980.468999   \n",
       "1  1.573925 -0.573910  0.348797      ...       -3092.595035   9236.914074   \n",
       "2 -0.150077 -1.675466 -0.669335      ...        9150.721536  18761.370003   \n",
       "3  0.079906 -1.811234  0.463999      ...      -12126.295339   -803.550496   \n",
       "4  0.783524  0.280158 -1.298947      ...        -528.383720   5951.414907   \n",
       "\n",
       "           pyf1          pzf1           xf2           yf2           zf2  \\\n",
       "0  -1551.236394  11664.631131  -3253.900943  -1491.729096   7089.755640   \n",
       "1   9175.510299 -19806.953450   9836.924810   9634.824657 -16526.801400   \n",
       "2 -25209.751336   1675.316328   4264.117718 -10227.585894  10476.691008   \n",
       "3  -9234.622264 -11648.609315     96.062379  -7876.046508 -10988.709197   \n",
       "4 -35384.912722 -15159.138608  19617.305711  -9160.157480   -625.570308   \n",
       "\n",
       "           pxf2          pyf2          pzf2  \n",
       "0  -2092.956000   -239.175026   1350.613205  \n",
       "1  12900.120462  12148.236182  -5892.296087  \n",
       "2 -10451.252350   4989.722911  19188.599310  \n",
       "3  14144.629525   5154.238913 -11302.425790  \n",
       "4  32358.302256  16646.269985  13567.881475  \n",
       "\n",
       "[5 rows x 24 columns]"
      ]
     },
     "execution_count": 20,
     "metadata": {},
     "output_type": "execute_result"
    }
   ],
   "source": [
    "qua.head()"
   ]
  },
  {
   "cell_type": "code",
   "execution_count": null,
   "metadata": {},
   "outputs": [],
   "source": []
  }
 ],
 "metadata": {
  "kernelspec": {
   "display_name": "py36",
   "language": "python",
   "name": "py36"
  },
  "language_info": {
   "codemirror_mode": {
    "name": "ipython",
    "version": 3
   },
   "file_extension": ".py",
   "mimetype": "text/x-python",
   "name": "python",
   "nbconvert_exporter": "python",
   "pygments_lexer": "ipython3",
   "version": "3.6.5"
  }
 },
 "nbformat": 4,
 "nbformat_minor": 2
}
